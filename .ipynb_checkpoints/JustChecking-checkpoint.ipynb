{
 "cells": [
  {
   "cell_type": "code",
   "execution_count": 14,
   "id": "0f5a4d5e",
   "metadata": {},
   "outputs": [],
   "source": [
    "import numpy as np\n",
    "import matplotlib.pyplot as plt\n",
    "\n",
    "# Parameters\n",
    "alpha = 0.33 # Capital share of output\n",
    "beta = 0.99 # Discount factor\n",
    "rho = 0.8 # Persistence of technology shock\n",
    "sigma = 0.1 # Standard deviation of technology shock\n",
    "phi = 0.5 # Calvo parameter\n",
    "theta = 2.5 # Elasticity of substitution\n",
    "pi_star = 1 # Target inflation rate\n",
    "y_star = 1 # Natural output level\n",
    "delta = 0.55 # Depreciation rate\n",
    "s = 0.1 # Share of firms that can adjust prices"
   ]
  },
  {
   "cell_type": "code",
   "execution_count": 15,
   "id": "a4488815",
   "metadata": {},
   "outputs": [],
   "source": [
    "# Steady-state values\n",
    "k_star = ((1/beta - 1 + alpha) / alpha)**(1 / (alpha - 1)) #steady-state level of the capital stock\n",
    "c_star = y_star - k_star #steady-state level of consumption\n",
    "i_star = beta * (1 - alpha) * (y_star / k_star - 1 + delta) #steady-state level of investment"
   ]
  },
  {
   "cell_type": "code",
   "execution_count": 16,
   "id": "8de1ae12",
   "metadata": {},
   "outputs": [],
   "source": [
    "# Grid for capital stock\n",
    "k_min = 0.9 * k_star\n",
    "k_max = 1.1 * k_star\n",
    "num_points = 1000\n",
    "k_grid = np.linspace(k_min, k_max, num_points)"
   ]
  },
  {
   "cell_type": "code",
   "execution_count": 19,
   "id": "31e8d200",
   "metadata": {},
   "outputs": [],
   "source": [
    "def calvo_price_update(p, pi, s, sigma):\n",
    "    num_firms = p.shape[1]\n",
    "    \n",
    "    # Compute aggregate price level\n",
    "    try:\n",
    "        p_tilde = ((1-s)*np.exp(pi) + s*np.mean(p))**(1/(1-s))\n",
    "    except OverflowError:\n",
    "        p_tilde = 1e10\n",
    "    \n",
    "    # Update prices for firms that can adjust\n",
    "    for j in range(num_firms):\n",
    "        if np.random.uniform() < s:\n",
    "            p[:, j] = p_tilde * np.exp(np.random.normal(0, sigma, size=(p.shape[0],)))\n",
    "    \n",
    "    return p"
   ]
  },
  {
   "cell_type": "code",
   "execution_count": 20,
   "id": "750eb1c2",
   "metadata": {},
   "outputs": [
    {
     "ename": "NameError",
     "evalue": "name 'num_firms' is not defined",
     "output_type": "error",
     "traceback": [
      "\u001b[1;31m---------------------------------------------------------------------------\u001b[0m",
      "\u001b[1;31mNameError\u001b[0m                                 Traceback (most recent call last)",
      "\u001b[1;32m~\\AppData\\Local\\Temp\\ipykernel_29836\\55655029.py\u001b[0m in \u001b[0;36m<module>\u001b[1;34m\u001b[0m\n\u001b[0;32m      7\u001b[0m \u001b[0mpi\u001b[0m \u001b[1;33m=\u001b[0m \u001b[0mnp\u001b[0m\u001b[1;33m.\u001b[0m\u001b[0mzeros\u001b[0m\u001b[1;33m(\u001b[0m\u001b[0mnum_points\u001b[0m\u001b[1;33m)\u001b[0m \u001b[1;31m# Inflation\u001b[0m\u001b[1;33m\u001b[0m\u001b[1;33m\u001b[0m\u001b[0m\n\u001b[0;32m      8\u001b[0m \u001b[0my\u001b[0m \u001b[1;33m=\u001b[0m \u001b[0mnp\u001b[0m\u001b[1;33m.\u001b[0m\u001b[0mzeros\u001b[0m\u001b[1;33m(\u001b[0m\u001b[0mnum_points\u001b[0m\u001b[1;33m)\u001b[0m \u001b[1;31m# Output\u001b[0m\u001b[1;33m\u001b[0m\u001b[1;33m\u001b[0m\u001b[0m\n\u001b[1;32m----> 9\u001b[1;33m \u001b[0mp\u001b[0m \u001b[1;33m=\u001b[0m \u001b[0mnp\u001b[0m\u001b[1;33m.\u001b[0m\u001b[0mzeros\u001b[0m\u001b[1;33m(\u001b[0m\u001b[1;33m(\u001b[0m\u001b[0mnum_points\u001b[0m\u001b[1;33m,\u001b[0m \u001b[0mnum_firms\u001b[0m\u001b[1;33m)\u001b[0m\u001b[1;33m)\u001b[0m \u001b[1;31m# Price\u001b[0m\u001b[1;33m\u001b[0m\u001b[1;33m\u001b[0m\u001b[0m\n\u001b[0m",
      "\u001b[1;31mNameError\u001b[0m: name 'num_firms' is not defined"
     ]
    }
   ],
   "source": [
    "# Create matrices for state variables and shocks\n",
    "z = np.zeros(num_points) # Technology shock\n",
    "e = np.random.normal(0, sigma, num_points) # Innovation to technology shock\n",
    "k = np.zeros(num_points) # Capital stock\n",
    "c = np.zeros(num_points) # Consumption\n",
    "i = np.zeros(num_points) # Investment\n",
    "pi = np.zeros(num_points) # Inflation\n",
    "y = np.zeros(num_points) # Output\n",
    "p = np.zeros((num_points, num_firms)) # Price"
   ]
  },
  {
   "cell_type": "code",
   "execution_count": null,
   "id": "86b7ffa2",
   "metadata": {},
   "outputs": [],
   "source": [
    "# Initialize variables\n",
    "k[0] = k_star\n",
    "c[0] = c_star\n",
    "i[0] = i_star\n",
    "pi[0] = 0\n",
    "y[0] = y_star"
   ]
  },
  {
   "cell_type": "code",
   "execution_count": null,
   "id": "2814e55c",
   "metadata": {},
   "outputs": [],
   "source": [
    "# Iterate over time periods\n",
    "for t in range(1, num_points):\n",
    "    # Update technology shock\n",
    "    z[t] = rho * z[t-1] + e[t]\n",
    "    \n",
    "    # Compute output and inflation\n",
    "    y[t] = k[t-1]**alpha * np.exp((1-alpha)*z[t]) # Output\n",
    "    pi[t] = phi*pi[t-1] + (1-phi)*pi_star + theta*(c[t-1]/y[t-1]-c_star/y_star) + z[t] # Inflation\n",
    "    \n",
    "    # Compute consumption and investment\n",
    "    c[t] = (1 - alpha) * y[t] + alpha * k[t-1] - i[t-1] # Consumption\n",
    "    i[t] = beta * i[t-1] + (1 - beta) * (c[t] - c[t-1]) # Investment    \n",
    "        \n",
    "    # Update prices\n",
    "    p = calvo_price_update(p, pi[t-1], s, sigma)\n",
    "    \n",
    "    # Compute aggregate price level\n",
    "    p_tilde = ((1-s)*np.exp(pi[t-1]) + s*np.mean(p[t-1,:]))**(1/(1-s))\n",
    "    \n",
    "    # Update prices for firms that can adjust\n",
    "    for j in range(num_firms):\n",
    "        if np.random.uniform() < s:\n",
    "            p[t,j] = p_tilde * np.exp(np.random.normal(0, sigma))\n",
    "    \n",
    "    # Update capital stock\n",
    "    k[t] = i[t] + (1 - delta) * k[t-1]"
   ]
  },
  {
   "cell_type": "code",
   "execution_count": null,
   "id": "23da586b",
   "metadata": {},
   "outputs": [],
   "source": [
    "# Plot results\n",
    "plt.plot(k_grid, k, label='Capital stock')\n",
    "plt.plot(k_grid, y, label='Output')\n",
    "plt.plot(k_grid, pi, label='Inflation')\n",
    "plt.legend()\n",
    "plt.show()"
   ]
  },
  {
   "cell_type": "code",
   "execution_count": null,
   "id": "cfad45b5",
   "metadata": {},
   "outputs": [],
   "source": []
  }
 ],
 "metadata": {
  "kernelspec": {
   "display_name": "Python 3 (ipykernel)",
   "language": "python",
   "name": "python3"
  },
  "language_info": {
   "codemirror_mode": {
    "name": "ipython",
    "version": 3
   },
   "file_extension": ".py",
   "mimetype": "text/x-python",
   "name": "python",
   "nbconvert_exporter": "python",
   "pygments_lexer": "ipython3",
   "version": "3.9.13"
  }
 },
 "nbformat": 4,
 "nbformat_minor": 5
}
