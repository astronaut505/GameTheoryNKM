{
 "cells": [
  {
   "cell_type": "code",
   "execution_count": 54,
   "id": "d3e9eb7f",
   "metadata": {},
   "outputs": [],
   "source": [
    "import numpy as np\n",
    "\n",
    "# Define initial parameters\n",
    "beta = 0.99 # D factor\n",
    "sigma = 1 # Risk averson\n",
    "gamma = 0.5 # Price stickines parameter\n",
    "delta = 0.1  # Depreciation rate\n",
    "alpha = 0.5 # Degree of monopolistic competition\n",
    "theta = 0.75 # Degree of price index\n",
    "phi = 0.5 # Inflation target\n",
    "rho_a = 0.9 # Persistence of technology shock\n",
    "sigma_a = 0.01 # Standard deviation of technology shock\n",
    "\n",
    "\n",
    "# Define initial variables\n",
    "T = 100 # Number of periods\n",
    "y = np.zeros(T) # Output\n",
    "k = np.zeros(T+1) #Kapital shock\n",
    "p = np.zeros(T+1) #output by the firm\n",
    "c = np.zeros(T) # Consumption\n",
    "i = np.zeros(T) # Investment\n",
    "pi = np.zeros(T) # Inflation\n",
    "w = np.zeros(T) # Real wage\n",
    "r = np.zeros(T) # Real interest rate"
   ]
  },
  {
   "cell_type": "code",
   "execution_count": 59,
   "id": "707d6ddb",
   "metadata": {},
   "outputs": [
    {
     "name": "stdout",
     "output_type": "stream",
     "text": [
      "c_star = 0.44999999999999996, i_star = -0.35\n"
     ]
    }
   ],
   "source": [
    "# Define the household optimization function\n",
    "def household_optimization(w, r, pi, a):\n",
    "    # Compute the optimal consumption and investment levels\n",
    "    c_star = (1 - gamma) * (w + (r - delta) * a) + pi * gamma * a - w\n",
    "    i_star = a - (1 - delta) * a - c_star\n",
    "    \n",
    "    # Check for 0 denominators and set optimal consumption and investment to 0 in those cases\n",
    "    if w == 0 or r == delta or c_star == 0 or i_star == 0:\n",
    "        c_star = 0\n",
    "        i_star = 0\n",
    "    \n",
    "    return c_star, i_star\n",
    "\n",
    "    if y > 0:\n",
    "        # Calculate consumption and investment\n",
    "        c = (1 - s)*y\n",
    "        i = s*y\n",
    "    else:\n",
    "        # If income is zero or negative, set consumption and investment to zero\n",
    "        c = 0\n",
    "        i = 0\n",
    "    \n",
    "    return c, i\n",
    "\n",
    "# Test the household optimization function\n",
    "a = 1\n",
    "w = 1\n",
    "r = 1\n",
    "pi = 1\n",
    "c_star, i_star = household_optimization(w, r, pi, a)\n",
    "print(f\"c_star = {c_star}, i_star = {i_star}\")"
   ]
  },
  {
   "cell_type": "code",
   "execution_count": 60,
   "id": "c0b74485",
   "metadata": {},
   "outputs": [],
   "source": [
    "# Define firms' optimization problem\n",
    "# This is all from ChatGPT ***TO BE CHECKED\n",
    "def firm_optimization(w, a):\n",
    "    # Define profit function\n",
    "    def profit(q):\n",
    "        return (w / alpha) * (q**(1 + alpha)) - a * q\n",
    "    \n",
    "    # Solve optimization problem\n",
    "    from scipy.optimize import minimize_scalar\n",
    "    res = minimize_scalar(profit)\n",
    "    q_star = res.x\n",
    "    p_star = w * (q_star**alpha)\n",
    "    \n",
    "    return p_star"
   ]
  },
  {
   "cell_type": "code",
   "execution_count": 61,
   "id": "67cc7c74",
   "metadata": {},
   "outputs": [],
   "source": [
    "# Defining simple central bank policy rule\n",
    "# Later I should check for more advanced rules\n",
    "def central_bank_policy_rule(pi, y):\n",
    "    i_star = (1/beta) * ((1 + r) / (1 + pi)) * (1 / (1 + y))\n",
    "    pi_star = theta * pi + (1 - theta) * phi + gamma * (y - 1)\n",
    "    r_star = (1 / beta) * (1 + pi_star) / (1 + pi) - 1\n",
    "    \n",
    "    return i_star, pi_star, r_star"
   ]
  },
  {
   "cell_type": "code",
   "execution_count": 63,
   "id": "2020b77a",
   "metadata": {},
   "outputs": [
    {
     "ename": "TypeError",
     "evalue": "'int' object does not support item assignment",
     "output_type": "error",
     "traceback": [
      "\u001b[1;31m---------------------------------------------------------------------------\u001b[0m",
      "\u001b[1;31mTypeError\u001b[0m                                 Traceback (most recent call last)",
      "\u001b[1;32m~\\AppData\\Local\\Temp\\ipykernel_34144\\3527458764.py\u001b[0m in \u001b[0;36m<module>\u001b[1;34m\u001b[0m\n\u001b[0;32m      1\u001b[0m \u001b[1;31m# Define initial conditions\u001b[0m\u001b[1;33m\u001b[0m\u001b[1;33m\u001b[0m\u001b[0m\n\u001b[1;32m----> 2\u001b[1;33m \u001b[0ma\u001b[0m\u001b[1;33m[\u001b[0m\u001b[1;36m0\u001b[0m\u001b[1;33m]\u001b[0m \u001b[1;33m=\u001b[0m \u001b[1;36m1\u001b[0m\u001b[1;33m\u001b[0m\u001b[1;33m\u001b[0m\u001b[0m\n\u001b[0m\u001b[0;32m      3\u001b[0m \u001b[0mk\u001b[0m\u001b[1;33m[\u001b[0m\u001b[1;36m0\u001b[0m\u001b[1;33m]\u001b[0m \u001b[1;33m=\u001b[0m \u001b[1;36m1\u001b[0m\u001b[1;33m\u001b[0m\u001b[1;33m\u001b[0m\u001b[0m\n\u001b[0;32m      4\u001b[0m \u001b[0mw\u001b[0m\u001b[1;33m[\u001b[0m\u001b[1;36m0\u001b[0m\u001b[1;33m]\u001b[0m \u001b[1;33m=\u001b[0m \u001b[1;36m1e-5\u001b[0m \u001b[1;31m#w to a small positive number cus' i get divided by zero error\u001b[0m\u001b[1;33m\u001b[0m\u001b[1;33m\u001b[0m\u001b[0m\n\u001b[0;32m      5\u001b[0m \u001b[0mr\u001b[0m\u001b[1;33m[\u001b[0m\u001b[1;36m0\u001b[0m\u001b[1;33m]\u001b[0m \u001b[1;33m=\u001b[0m \u001b[1;36m0.01\u001b[0m\u001b[1;33m\u001b[0m\u001b[1;33m\u001b[0m\u001b[0m\n",
      "\u001b[1;31mTypeError\u001b[0m: 'int' object does not support item assignment"
     ]
    }
   ],
   "source": [
    "# Define initial conditions\n",
    "a[0] = 1\n",
    "k[0] = 1\n",
    "w[0] = 1e-5 #w to a small positive number cus' i get divided by zero error\n",
    "r[0] = 0.01\n",
    "pi[0] = 1e-5 # change initial value of pi to a small positive number\n",
    "y[0] = 1\n",
    "c[0], i[0] = household_optimization(w[0], r[0], pi[0], a[0])\n",
    "p[0] = firm_optimization(w[0], a[0])\n"
   ]
  },
  {
   "cell_type": "code",
   "execution_count": 66,
   "id": "16585b4b",
   "metadata": {},
   "outputs": [],
   "source": [
    "# Define function to simulate the economy\n",
    "\n",
    "def simulate_economy(T, alpha, beta, gamma, delta, sigma, pi, a_0, k_0):\n",
    "    \n",
    "    # Initialize arrays to store results\n",
    "    a = np.zeros(T+1)\n",
    "    k = np.zeros(T+1)\n",
    "    w = np.zeros(T+1)\n",
    "    r = np.zeros(T+1)\n",
    "    p = np.zeros(T+1)\n",
    "    y = np.zeros(T+1)\n",
    "    c = np.zeros(T+1)\n",
    "    i = np.zeros(T+1)\n",
    "\n",
    "    # Set initial values\n",
    "    a[0] = a_0\n",
    "    k[0] = k_0\n",
    "    \n",
    "    # Simulate the economy\n",
    "    for t in range(T):\n",
    "        \n",
    "        # Update capital stock\n",
    "        k[t+1] = investment_decision(k[t], r[t], a[t], delta)\n",
    "        \n",
    "        # Simulate a shock to productivity\n",
    "        a[t+1] = productivity_shock(a[t], sigma)\n",
    "        \n",
    "        # Solve for firm's optimal price and output\n",
    "        p[t], y[t] = firm_optimization(w[t], a[t])\n",
    "        \n",
    "        # Solve for household's optimal consumption and investment\n",
    "        c[t], i[t] = household_optimization(w[t], r[t], pi[t], a[t])\n",
    "        \n",
    "        # Update labor demand and supply\n",
    "        L = labor_supply(c[t], i[t], k[t], alpha)\n",
    "        N = labor_demand(y[t], w[t], gamma)\n",
    "        \n",
    "        # Update wage rate\n",
    "        w[t+1] = wage_setting(N, L, beta)\n",
    "        \n",
    "        # Update rental rate\n",
    "        r[t+1] = rental_rate(y[t], k[t+1], alpha, delta)\n",
    "        \n",
    "        # Calculate firm's profits\n",
    "        profit = y[t] - w[t]*L - r[t]*k[t]\n",
    "        \n",
    "        # Update price index\n",
    "        pi[t+1] = price_index(pi[t], gamma, profit)\n",
    "        \n",
    "    return a, k, w, r, p, y, c, i"
   ]
  },
  {
   "cell_type": "code",
   "execution_count": 67,
   "id": "4c0a02e7",
   "metadata": {},
   "outputs": [
    {
     "data": {
      "image/png": "[encoded data removed]",
      "text/plain": [
       "<Figure size 640x480 with 4 Axes>"
      ]
     },
     "metadata": {},
     "output_type": "display_data"
    }
   ],
   "source": [
    "# Plot the results\n",
    "import matplotlib.pyplot as plt\n",
    "\n",
    "plt.subplot(2, 2, 1)\n",
    "plt.plot(y)\n",
    "plt.title('Output')\n",
    "plt.xlabel('Time')\n",
    "\n",
    "plt.subplot(2, 2, 2)\n",
    "plt.plot(c)\n",
    "plt.title('Consumption')\n",
    "plt.xlabel('Time')\n",
    "\n",
    "plt.subplot(2, 2, 3)\n",
    "plt.plot(i)\n",
    "plt.title('Investment')\n",
    "plt.xlabel('Time')\n",
    "\n",
    "plt.subplot(2, 2, 4)\n",
    "plt.plot(pi)\n",
    "plt.title('Inflation')\n",
    "plt.xlabel('Time')\n",
    "\n",
    "plt.tight_layout()\n",
    "plt.show()"
   ]
  },
  {
   "cell_type": "code",
   "execution_count": null,
   "id": "8caf24c7",
   "metadata": {},
   "outputs": [],
   "source": []
  }
 ],
 "metadata": {
  "kernelspec": {
   "display_name": "Python 3 (ipykernel)",
   "language": "python",
   "name": "python3"
  },
  "language_info": {
   "codemirror_mode": {
    "name": "ipython",
    "version": 3
   },
   "file_extension": ".py",
   "mimetype": "text/x-python",
   "name": "python",
   "nbconvert_exporter": "python",
   "pygments_lexer": "ipython3",
   "version": "3.9.13"
  }
 },
 "nbformat": 4,
 "nbformat_minor": 5
}
