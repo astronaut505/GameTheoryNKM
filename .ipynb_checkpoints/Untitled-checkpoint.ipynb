{
 "cells": [
  {
   "cell_type": "code",
   "execution_count": 40,
   "id": "4707110b",
   "metadata": {},
   "outputs": [],
   "source": [
    "import numpy as np\n",
    "\n",
    "# Define initial parameters\n",
    "beta = 0.99 # Discount factor\n",
    "sigma = 1 # Risk aversion\n",
    "gamma = 0.5 # Price stickiness parameter\n",
    "alpha = 0.5 # Degree of monopolistic competition\n",
    "theta = 0.75 # Degree of price indexation\n",
    "phi = 0.5 # Inflation target\n",
    "rho_a = 0.9 # Persistence of technology shock\n",
    "sigma_a = 0.01 # Standard deviation of technology shock\n",
    "\n",
    "# Define initial variables\n",
    "T = 100 # Number of periods\n",
    "y = np.zeros(T) # Output\n",
    "c = np.zeros(T) # Consumption\n",
    "i = np.zeros(T) # Investment\n",
    "pi = np.zeros(T) # Inflation\n",
    "w = np.zeros(T) # Real wage\n",
    "r = np.zeros(T) # Real interest rate"
   ]
  },
  {
   "cell_type": "code",
   "execution_count": 42,
   "id": "8c431dfe",
   "metadata": {},
   "outputs": [],
   "source": [
    "# Define households' optimization problem\n",
    "def household_optimization(w, r, pi, a):\n",
    "    # Calculate expected future income and discount rate\n",
    "    E_y = np.mean([y[t+1] for t in range(T-1)])\n",
    "    beta_pi = beta * (1 + r) / (1 + pi)\n",
    "    beta_E_pi = beta * (1 + r) / (1 + theta * pi + (1 - theta) * phi)\n",
    "    \n",
    "    # Define utility function and budget constraint\n",
    "    def utility(c):\n",
    "        return (c**(1-sigma) - 1) / (1 - sigma)\n",
    "    \n",
    "    def budget_constraint(c, i, w, a):\n",
    "        return c + i - w - a\n",
    "    \n",
    "    # Solve optimization problem\n",
    "    def objective(c):\n",
    "        return -utility(c) + beta_pi * utility(budget_constraint(c, 0, w, a))\n",
    "    \n",
    "    from scipy.optimize import minimize_scalar\n",
    "    res = minimize_scalar(objective)\n",
    "    c_star = res.x\n",
    "    i_star = budget_constraint(c_star, 0, w, a)\n",
    "    \n",
    "    return c_star, i_star"
   ]
  },
  {
   "cell_type": "code",
   "execution_count": null,
   "id": "bfa40326",
   "metadata": {},
   "outputs": [],
   "source": []
  }
 ],
 "metadata": {
  "kernelspec": {
   "display_name": "Python 3 (ipykernel)",
   "language": "python",
   "name": "python3"
  },
  "language_info": {
   "codemirror_mode": {
    "name": "ipython",
    "version": 3
   },
   "file_extension": ".py",
   "mimetype": "text/x-python",
   "name": "python",
   "nbconvert_exporter": "python",
   "pygments_lexer": "ipython3",
   "version": "3.9.13"
  }
 },
 "nbformat": 4,
 "nbformat_minor": 5
}
