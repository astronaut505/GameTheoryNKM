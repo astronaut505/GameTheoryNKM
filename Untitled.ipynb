{
 "cells": [
  {
   "cell_type": "code",
   "execution_count": 47,
   "id": "d3e9eb7f",
   "metadata": {},
   "outputs": [],
   "source": [
    "import numpy as np\n",
    "\n",
    "# Define initial parameters\n",
    "beta = 0.99 # D factor\n",
    "sigma = 1 # Risk averson\n",
    "gamma = 0.5 # Price stickines parameter\n",
    "alpha = 0.5 # Degree of monopolistic competition\n",
    "theta = 0.75 # Degree of price index\n",
    "phi = 0.5 # Inflation target\n",
    "rho_a = 0.9 # Persistence of technology shock\n",
    "sigma_a = 0.01 # Standard deviation of technology shock\n",
    "\n",
    "# Define initial variables\n",
    "T = 100 # Number of periods\n",
    "y = np.zeros(T) # Output\n",
    "c = np.zeros(T) # Consumption\n",
    "i = np.zeros(T) # Investment\n",
    "pi = np.zeros(T) # Inflation\n",
    "w = np.zeros(T) # Real wage\n",
    "r = np.zeros(T) # Real interest rate"
   ]
  },
  {
   "cell_type": "code",
   "execution_count": 48,
   "id": "707d6ddb",
   "metadata": {},
   "outputs": [],
   "source": [
    "# Households optimization problem\n",
    "def household_optimization(w, r, pi, a):\n",
    "    # Not sure what I am doing here but trying to \"calculate expected future income and discount rate\"\n",
    "    # ***TO BE CHECKED\n",
    "    E_y = np.mean([y[t+1] for t in range(T-1)])\n",
    "    beta_pi = beta * (1 + r) / (1 + pi)\n",
    "    beta_E_pi = beta * (1 + r) / (1 + theta * pi + (1 - theta) * phi)\n",
    "    # I am lost again! ***TO BE CHECKED\n",
    "    # Define utility function and budget constraint\n",
    "    def utility(c):\n",
    "        return (c**(1-sigma) - 1) / (1 - sigma)\n",
    "    \n",
    "    def budget_constraint(c, i, w, a):\n",
    "        return c + i - w - a\n",
    "    \n",
    "    # Solve optimization problem\n",
    "    def objective(c):\n",
    "        return -utility(c) + beta_pi * utility(budget_constraint(c, 0, w, a))\n",
    "    \n",
    "    from scipy.optimize import minimize_scalar\n",
    "    res = minimize_scalar(objective)\n",
    "    c_star = res.x\n",
    "    i_star = budget_constraint(c_star, 0, w, a)\n",
    "    \n",
    "    return c_star, i_star"
   ]
  },
  {
   "cell_type": "code",
   "execution_count": 49,
   "id": "c0b74485",
   "metadata": {},
   "outputs": [],
   "source": [
    "# Define firms' optimization problem\n",
    "# This is all from ChatGPT ***TO BE CHECKED\n",
    "def firm_optimization(w, a):\n",
    "    # Define profit function\n",
    "    def profit(q):\n",
    "        return (w / alpha) * (q**(1 + alpha)) - a * q\n",
    "    \n",
    "    # Solve optimization problem\n",
    "    from scipy.optimize import minimize_scalar\n",
    "    res = minimize_scalar(profit)\n",
    "    q_star = res.x\n",
    "    p_star = w * (q_star**alpha)\n",
    "    \n",
    "    return p_star"
   ]
  },
  {
   "cell_type": "code",
   "execution_count": 50,
   "id": "67cc7c74",
   "metadata": {},
   "outputs": [],
   "source": [
    "# Defining simple central bank policy rule\n",
    "# Later I should check for more advanced rules\n",
    "def central_bank_policy_rule(pi, y):\n",
    "    i_star = (1/beta) * ((1 + r) / (1 + pi)) * (1 / (1 + y))\n",
    "    pi_star = theta * pi + (1 - theta) * phi + gamma * (y - 1)\n",
    "    r_star = (1 / beta) * (1 + pi_star) / (1 + pi) - 1\n",
    "    \n",
    "    return i_star, pi_star, r_star"
   ]
  },
  {
   "cell_type": "code",
   "execution_count": 51,
   "id": "2020b77a",
   "metadata": {},
   "outputs": [],
   "source": [
    "# Setting initial conditions\n",
    "a = np.zeros(T)\n",
    "a[0] = 1"
   ]
  },
  {
   "cell_type": "code",
   "execution_count": null,
   "id": "74045a7f",
   "metadata": {},
   "outputs": [],
   "source": []
  }
 ],
 "metadata": {
  "kernelspec": {
   "display_name": "Python 3 (ipykernel)",
   "language": "python",
   "name": "python3"
  },
  "language_info": {
   "codemirror_mode": {
    "name": "ipython",
    "version": 3
   },
   "file_extension": ".py",
   "mimetype": "text/x-python",
   "name": "python",
   "nbconvert_exporter": "python",
   "pygments_lexer": "ipython3",
   "version": "3.9.13"
  }
 },
 "nbformat": 4,
 "nbformat_minor": 5
}
