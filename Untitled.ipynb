{
 "cells": [
  {
   "cell_type": "code",
   "execution_count": null,
   "id": "2661542f",
   "metadata": {},
   "outputs": [],
   "source": [
    "import numpy as np\n",
    "\n",
    "# Define initial parameters\n",
    "beta = 0.99 # Discount factor\n",
    "sigma = 1 # Risk aversion\n",
    "gamma = 0.5 # Price stickiness parameter\n",
    "alpha = 0.5 # Degree of monopolistic competition\n",
    "theta = 0.75 # Degree of price indexation\n",
    "phi = 0.5 # Inflation target\n",
    "rho_a = 0.9 # Persistence of technology shock\n",
    "sigma_a = 0.01 # Standard deviation of technology shock\n",
    "\n",
    "# Define initial variables\n",
    "T = 100 # Number of periods\n",
    "y = np.zeros(T) # Output\n",
    "c = np.zeros(T) # Consumption\n",
    "i = np.zeros(T) # Investment\n",
    "pi = np.zeros(T) # Inflation\n",
    "w = np.zeros(T) # Real wage\n",
    "r = np.zeros(T) # Real interest rate"
   ]
  }
 ],
 "metadata": {
  "kernelspec": {
   "display_name": "Python 3 (ipykernel)",
   "language": "python",
   "name": "python3"
  },
  "language_info": {
   "codemirror_mode": {
    "name": "ipython",
    "version": 3
   },
   "file_extension": ".py",
   "mimetype": "text/x-python",
   "name": "python",
   "nbconvert_exporter": "python",
   "pygments_lexer": "ipython3",
   "version": "3.9.13"
  }
 },
 "nbformat": 4,
 "nbformat_minor": 5
}
